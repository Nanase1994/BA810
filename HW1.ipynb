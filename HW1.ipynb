{
  "cells": [
    {
      "cell_type": "markdown",
      "metadata": {
        "id": "view-in-github",
        "colab_type": "text"
      },
      "source": [
        "<a href=\"https://colab.research.google.com/github/Nanase1994/BA810/blob/main/HW1.ipynb\" target=\"_parent\"><img src=\"https://colab.research.google.com/assets/colab-badge.svg\" alt=\"Open In Colab\"/></a>"
      ]
    },
    {
      "cell_type": "markdown",
      "source": [
        "Google Colab Notebook link:"
      ],
      "metadata": {
        "id": "Zu00cOlv_QZA"
      }
    },
    {
      "cell_type": "markdown",
      "metadata": {
        "id": "UA0TvUeGFF6n"
      },
      "source": [
        "# Homework 1 (Total 100 points)"
      ]
    },
    {
      "cell_type": "markdown",
      "source": [
        "#Homework 1\n",
        "\n",
        "## Q1. Load and examine the `Auto.csv` dataset from the course folder on Google drive. **(10 points total)**\n",
        "\n",
        "  1. Should you drop any variable from regression analysis and why? (5 points)\n",
        "  1. Which variables should be treated as numeric and which as categorical? Explain why. (5 points)\n",
        "\n",
        "Provide python code and analysis results first. Use them to support your answers to the two questions above.\n",
        "\n",
        "FYI the column definitions (from https://cran.r-project.org/web/packages/ISLR/ISLR.pdf):\n",
        "* mpg: miles per gallon (The outcome, or y, variable)\n",
        "* cylinders: Number of cylinders between 4 and 8\n",
        "* displacement: Engine displacement (cu. inches)\n",
        "* horsepower: Engine horsepower\n",
        "* weight: Vehicle weight (lbs.)\n",
        "* acceleration: Time to accelerate from 0 to 60 mph (sec.)\n",
        "* year: Model year (modulo 100)\n",
        "* origin: Origin of car (1. American, 2. European, 3. Japanese)\n",
        "* name: Vehicle name\n"
      ],
      "metadata": {
        "id": "pyjIb20UgBpg"
      }
    },
    {
      "cell_type": "code",
      "source": [
        "import pandas as pd\n",
        "from google.colab import drive\n",
        "drive.mount('/content/drive')\n",
        "auto = pd.read_csv(\"/content/drive/MyDrive/Auto.csv\")\n"
      ],
      "metadata": {
        "id": "lGKspiXG9dHU",
        "outputId": "8646d988-b07e-4086-d80b-a317ede6ea3d",
        "colab": {
          "base_uri": "https://localhost:8080/"
        }
      },
      "execution_count": 12,
      "outputs": [
        {
          "output_type": "stream",
          "name": "stdout",
          "text": [
            "Drive already mounted at /content/drive; to attempt to forcibly remount, call drive.mount(\"/content/drive\", force_remount=True).\n",
            "=== Dataset Info ===\n",
            "<class 'pandas.core.frame.DataFrame'>\n",
            "RangeIndex: 397 entries, 0 to 396\n",
            "Data columns (total 9 columns):\n",
            " #   Column        Non-Null Count  Dtype  \n",
            "---  ------        --------------  -----  \n",
            " 0   mpg           397 non-null    float64\n",
            " 1   cylinders     397 non-null    int64  \n",
            " 2   displacement  397 non-null    float64\n",
            " 3   horsepower    397 non-null    object \n",
            " 4   weight        397 non-null    int64  \n",
            " 5   acceleration  397 non-null    float64\n",
            " 6   year          397 non-null    int64  \n",
            " 7   origin        397 non-null    int64  \n",
            " 8   name          397 non-null    object \n",
            "dtypes: float64(3), int64(4), object(2)\n",
            "memory usage: 28.0+ KB\n",
            "None\n",
            "\n",
            "=== First 5 Rows ===\n",
            "    mpg  cylinders  displacement horsepower  weight  acceleration  year  \\\n",
            "0  18.0          8         307.0        130    3504          12.0    70   \n",
            "1  15.0          8         350.0        165    3693          11.5    70   \n",
            "2  18.0          8         318.0        150    3436          11.0    70   \n",
            "3  16.0          8         304.0        150    3433          12.0    70   \n",
            "4  17.0          8         302.0        140    3449          10.5    70   \n",
            "\n",
            "   origin                       name  \n",
            "0       1  chevrolet chevelle malibu  \n",
            "1       1          buick skylark 320  \n",
            "2       1         plymouth satellite  \n",
            "3       1              amc rebel sst  \n",
            "4       1                ford torino  \n",
            "\n",
            "=== Missing Values ===\n",
            "mpg             0\n",
            "cylinders       0\n",
            "displacement    0\n",
            "horsepower      0\n",
            "weight          0\n",
            "acceleration    0\n",
            "year            0\n",
            "origin          0\n",
            "name            0\n",
            "dtype: int64\n",
            "\n",
            "Unique horsepower values (sample):\n",
            "['130' '165' '150' '140' '198' '220' '215' '225' '190' '170']\n",
            "\n",
            "=== Summary Statistics ===\n",
            "               mpg   cylinders  displacement horsepower       weight  \\\n",
            "count   397.000000  397.000000    397.000000        397   397.000000   \n",
            "unique         NaN         NaN           NaN         94          NaN   \n",
            "top            NaN         NaN           NaN        150          NaN   \n",
            "freq           NaN         NaN           NaN         22          NaN   \n",
            "mean     23.515869    5.458438    193.532746        NaN  2970.261965   \n",
            "std       7.825804    1.701577    104.379583        NaN   847.904119   \n",
            "min       9.000000    3.000000     68.000000        NaN  1613.000000   \n",
            "25%      17.500000    4.000000    104.000000        NaN  2223.000000   \n",
            "50%      23.000000    4.000000    146.000000        NaN  2800.000000   \n",
            "75%      29.000000    8.000000    262.000000        NaN  3609.000000   \n",
            "max      46.600000    8.000000    455.000000        NaN  5140.000000   \n",
            "\n",
            "        acceleration        year      origin        name  \n",
            "count     397.000000  397.000000  397.000000         397  \n",
            "unique           NaN         NaN         NaN         304  \n",
            "top              NaN         NaN         NaN  ford pinto  \n",
            "freq             NaN         NaN         NaN           6  \n",
            "mean       15.555668   75.994962    1.574307         NaN  \n",
            "std         2.749995    3.690005    0.802549         NaN  \n",
            "min         8.000000   70.000000    1.000000         NaN  \n",
            "25%        13.800000   73.000000    1.000000         NaN  \n",
            "50%        15.500000   76.000000    1.000000         NaN  \n",
            "75%        17.100000   79.000000    2.000000         NaN  \n",
            "max        24.800000   82.000000    3.000000         NaN  \n"
          ]
        }
      ]
    },
    {
      "cell_type": "markdown",
      "source": [
        "## Q2. Scatter and explore. **(20 points total)**\n",
        "1. Plot all the pairwise scatter plots and histograms for the numeric features. (10 points)\n",
        "1. Discuss two interesting relationships that you notice. (10 points)"
      ],
      "metadata": {
        "id": "NulyfAVnkLTS"
      }
    },
    {
      "cell_type": "code",
      "source": [],
      "metadata": {
        "id": "o9F1EDJt9ceZ"
      },
      "execution_count": null,
      "outputs": []
    },
    {
      "cell_type": "markdown",
      "source": [
        "## Q3. Compute the correlation matrix among the numeric variables. Discuss one interesting correlation. (10+10=**20 points total**)"
      ],
      "metadata": {
        "id": "AHKO4BWfmIz1"
      }
    },
    {
      "cell_type": "code",
      "source": [],
      "metadata": {
        "id": "Lvcd73QA9d1l"
      },
      "execution_count": null,
      "outputs": []
    },
    {
      "cell_type": "markdown",
      "source": [
        "## Q4. Use `statsmodels` to regress mpg on all other variables. Note you can tell `ols()` to treat a variable as categorical by enclosing the variable in `C()`. **(15 points total)**\n",
        "  1. Interpret the significant effects. (5 points)\n",
        "  1. Which variables don't have a significant effect? Provide potential explanation for one surprising non-effect. (5 points)\n",
        "  1. Discuss the difference in results when you treat `year` as a categorical vs a numeric variable. (5 points)"
      ],
      "metadata": {
        "id": "HmEvxdMCnw-m"
      }
    },
    {
      "cell_type": "code",
      "source": [],
      "metadata": {
        "id": "X7rQcVXE9fyh"
      },
      "execution_count": null,
      "outputs": []
    },
    {
      "cell_type": "markdown",
      "source": [
        "## Q5. From the above regression model in Q4, include interactions between a numeric and categorical variable in three different regression models (three separate models in total). Do any of them appear significant? Discuss the results. **(15 points total)**\n"
      ],
      "metadata": {
        "id": "Hdst6gvGu7kM"
      }
    },
    {
      "cell_type": "code",
      "source": [],
      "metadata": {
        "id": "lxbw_bdt9jzJ"
      },
      "execution_count": null,
      "outputs": []
    },
    {
      "cell_type": "markdown",
      "source": [
        "## Q6. Measure the in-sample and out of sample $R^2$ of the model specified in Q4.1 using 80% data for training and 20% data for testing. **(10 points total)**\n",
        "\n",
        "If you run into a problem because some values of a categorical column are missing in the training set, check the parameter `handle_unknown` for the OneHotEncoding class."
      ],
      "metadata": {
        "id": "0hqA2avuvNpT"
      }
    },
    {
      "cell_type": "code",
      "source": [],
      "metadata": {
        "id": "_0s34Bpk9zul"
      },
      "execution_count": null,
      "outputs": []
    },
    {
      "cell_type": "markdown",
      "source": [
        "## Q7. Collaboration statement **(10 points total)**\n",
        "Who did you discuss while answering this homework (whether to get or to provide help)? What questions/topics did you discuss? Did you use any generative AI tool, such as ChatGPT? If so, provide your prompts.\n",
        "\n",
        "Note: No penalty for either side. While getting help in figuring out how to solve is OK, all answers should be produced by you.\n",
        "\n",
        "If you did not collaborate with anyone simply declare so.\n",
        "\n",
        "Sample answer:\n",
        "\n",
        "1. I discussed with Hazel for this homework. I needed her help with submission system and as a sounding board for the reasonableness of this homework.\n",
        "2. I used ChatGPT with the following prompt to understand how to measure out of sample $R^2$:\n",
        "> provide prompt here\n",
        "\n",
        "Then I wrote the code that is submitted in the assignment.\n",
        "\n",
        "3. I did not discuss with anyone or get any help from any generative AI tool."
      ],
      "metadata": {
        "id": "dy0Phi_NNCNh"
      }
    },
    {
      "cell_type": "markdown",
      "source": [
        "## Submit\n",
        "1. Submit your colab notebook as a pdf file. Use the code in [this notebook](https://colab.research.google.com/drive/1ZZLCXbvUS3DEpZt9fgVVhZxWMxNigu2a?usp=sharing) to convert your notebook to professional looking pdf. Do review the pdf file to make sure everything is appearing correctly before submitting!\n",
        "1. Include a link to the colab notebook in your submission and make sure to provide us (TAs and professor) access to view it.\n"
      ],
      "metadata": {
        "id": "BxY2dh65XsrX"
      }
    }
  ],
  "metadata": {
    "kernelspec": {
      "display_name": "Python 3 (ipykernel)",
      "language": "python",
      "name": "python3"
    },
    "language_info": {
      "codemirror_mode": {
        "name": "ipython",
        "version": 3
      },
      "file_extension": ".py",
      "mimetype": "text/x-python",
      "name": "python",
      "nbconvert_exporter": "python",
      "pygments_lexer": "ipython3",
      "version": "3.8.11"
    },
    "colab": {
      "provenance": [],
      "include_colab_link": true
    }
  },
  "nbformat": 4,
  "nbformat_minor": 0
}